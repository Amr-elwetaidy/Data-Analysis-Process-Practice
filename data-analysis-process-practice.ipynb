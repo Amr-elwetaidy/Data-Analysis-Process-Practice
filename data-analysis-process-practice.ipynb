{
 "cells": [
  {
   "cell_type": "markdown",
   "id": "368b353f",
   "metadata": {
    "papermill": {
     "duration": 0.017274,
     "end_time": "2022-02-25T13:18:02.926632",
     "exception": false,
     "start_time": "2022-02-25T13:18:02.909358",
     "status": "completed"
    },
    "tags": []
   },
   "source": [
    "<a id='top'></a>\n",
    "# Investigating No-Show Appointments Dataset.\n",
    "\n",
    "## Introduction\n",
    "This dataset collects information from 100k medical appointments in Brazil and is focused on the question of whether or not patients show up for their appointment.\n",
    "\n",
    "I will be analyizing this dataset to explore What factors are important for us to know in order to predict if a patient will show up for their scheduled appointment?"
   ]
  },
  {
   "cell_type": "code",
   "execution_count": 1,
   "id": "4b5a4277",
   "metadata": {
    "_cell_guid": "b1076dfc-b9ad-4769-8c92-a6c4dae69d19",
    "_uuid": "8f2839f25d086af736a60e9eeb907d3b93b6e0e5",
    "execution": {
     "iopub.execute_input": "2022-02-25T13:18:02.976413Z",
     "iopub.status.busy": "2022-02-25T13:18:02.975541Z",
     "iopub.status.idle": "2022-02-25T13:18:02.982513Z",
     "shell.execute_reply": "2022-02-25T13:18:02.981737Z",
     "shell.execute_reply.started": "2022-02-25T13:14:08.630458Z"
    },
    "papermill": {
     "duration": 0.0372,
     "end_time": "2022-02-25T13:18:02.982683",
     "exception": false,
     "start_time": "2022-02-25T13:18:02.945483",
     "status": "completed"
    },
    "tags": []
   },
   "outputs": [],
   "source": [
    "# importing necessary libraries\n",
    "import numpy as np\n",
    "import pandas as pd\n",
    "import os\n",
    "import matplotlib.pyplot as plt\n",
    "\n",
    "%matplotlib inline"
   ]
  },
  {
   "cell_type": "code",
   "execution_count": 2,
   "id": "553774eb",
   "metadata": {
    "execution": {
     "iopub.execute_input": "2022-02-25T13:18:03.022892Z",
     "iopub.status.busy": "2022-02-25T13:18:03.022223Z",
     "iopub.status.idle": "2022-02-25T13:18:03.031888Z",
     "shell.execute_reply": "2022-02-25T13:18:03.032435Z",
     "shell.execute_reply.started": "2022-02-25T13:14:08.649323Z"
    },
    "papermill": {
     "duration": 0.031567,
     "end_time": "2022-02-25T13:18:03.032603",
     "exception": false,
     "start_time": "2022-02-25T13:18:03.001036",
     "status": "completed"
    },
    "tags": []
   },
   "outputs": [
    {
     "name": "stdout",
     "output_type": "stream",
     "text": [
      "/kaggle/input/noshowappointments/KaggleV2-May-2016.csv\n"
     ]
    }
   ],
   "source": [
    "# checking for the csv file name\n",
    "for dirname, _, filenames in os.walk('/kaggle/input'):\n",
    "    for filename in filenames:\n",
    "        print(os.path.join(dirname, filename))"
   ]
  },
  {
   "cell_type": "markdown",
   "id": "6a6e71a6",
   "metadata": {
    "papermill": {
     "duration": 0.016577,
     "end_time": "2022-02-25T13:18:03.066515",
     "exception": false,
     "start_time": "2022-02-25T13:18:03.049938",
     "status": "completed"
    },
    "tags": []
   },
   "source": [
    "<a id='wrangling'></a>\n",
    "## Data Wrangling\n",
    "\n",
    "#### Inspecting and Assessing the data"
   ]
  },
  {
   "cell_type": "code",
   "execution_count": 3,
   "id": "58899b79",
   "metadata": {
    "execution": {
     "iopub.execute_input": "2022-02-25T13:18:03.104184Z",
     "iopub.status.busy": "2022-02-25T13:18:03.103513Z",
     "iopub.status.idle": "2022-02-25T13:18:03.505120Z",
     "shell.execute_reply": "2022-02-25T13:18:03.504594Z",
     "shell.execute_reply.started": "2022-02-25T13:14:08.662922Z"
    },
    "papermill": {
     "duration": 0.422031,
     "end_time": "2022-02-25T13:18:03.505303",
     "exception": false,
     "start_time": "2022-02-25T13:18:03.083272",
     "status": "completed"
    },
    "tags": []
   },
   "outputs": [
    {
     "data": {
      "text/html": [
       "<div>\n",
       "<style scoped>\n",
       "    .dataframe tbody tr th:only-of-type {\n",
       "        vertical-align: middle;\n",
       "    }\n",
       "\n",
       "    .dataframe tbody tr th {\n",
       "        vertical-align: top;\n",
       "    }\n",
       "\n",
       "    .dataframe thead th {\n",
       "        text-align: right;\n",
       "    }\n",
       "</style>\n",
       "<table border=\"1\" class=\"dataframe\">\n",
       "  <thead>\n",
       "    <tr style=\"text-align: right;\">\n",
       "      <th></th>\n",
       "      <th>PatientId</th>\n",
       "      <th>AppointmentID</th>\n",
       "      <th>Gender</th>\n",
       "      <th>ScheduledDay</th>\n",
       "      <th>AppointmentDay</th>\n",
       "      <th>Age</th>\n",
       "      <th>Neighbourhood</th>\n",
       "      <th>Scholarship</th>\n",
       "      <th>Hipertension</th>\n",
       "      <th>Diabetes</th>\n",
       "      <th>Alcoholism</th>\n",
       "      <th>Handcap</th>\n",
       "      <th>SMS_received</th>\n",
       "      <th>No-show</th>\n",
       "    </tr>\n",
       "  </thead>\n",
       "  <tbody>\n",
       "    <tr>\n",
       "      <th>0</th>\n",
       "      <td>2.987250e+13</td>\n",
       "      <td>5642903</td>\n",
       "      <td>F</td>\n",
       "      <td>2016-04-29T18:38:08Z</td>\n",
       "      <td>2016-04-29T00:00:00Z</td>\n",
       "      <td>62</td>\n",
       "      <td>JARDIM DA PENHA</td>\n",
       "      <td>0</td>\n",
       "      <td>1</td>\n",
       "      <td>0</td>\n",
       "      <td>0</td>\n",
       "      <td>0</td>\n",
       "      <td>0</td>\n",
       "      <td>No</td>\n",
       "    </tr>\n",
       "    <tr>\n",
       "      <th>1</th>\n",
       "      <td>5.589978e+14</td>\n",
       "      <td>5642503</td>\n",
       "      <td>M</td>\n",
       "      <td>2016-04-29T16:08:27Z</td>\n",
       "      <td>2016-04-29T00:00:00Z</td>\n",
       "      <td>56</td>\n",
       "      <td>JARDIM DA PENHA</td>\n",
       "      <td>0</td>\n",
       "      <td>0</td>\n",
       "      <td>0</td>\n",
       "      <td>0</td>\n",
       "      <td>0</td>\n",
       "      <td>0</td>\n",
       "      <td>No</td>\n",
       "    </tr>\n",
       "    <tr>\n",
       "      <th>2</th>\n",
       "      <td>4.262962e+12</td>\n",
       "      <td>5642549</td>\n",
       "      <td>F</td>\n",
       "      <td>2016-04-29T16:19:04Z</td>\n",
       "      <td>2016-04-29T00:00:00Z</td>\n",
       "      <td>62</td>\n",
       "      <td>MATA DA PRAIA</td>\n",
       "      <td>0</td>\n",
       "      <td>0</td>\n",
       "      <td>0</td>\n",
       "      <td>0</td>\n",
       "      <td>0</td>\n",
       "      <td>0</td>\n",
       "      <td>No</td>\n",
       "    </tr>\n",
       "    <tr>\n",
       "      <th>3</th>\n",
       "      <td>8.679512e+11</td>\n",
       "      <td>5642828</td>\n",
       "      <td>F</td>\n",
       "      <td>2016-04-29T17:29:31Z</td>\n",
       "      <td>2016-04-29T00:00:00Z</td>\n",
       "      <td>8</td>\n",
       "      <td>PONTAL DE CAMBURI</td>\n",
       "      <td>0</td>\n",
       "      <td>0</td>\n",
       "      <td>0</td>\n",
       "      <td>0</td>\n",
       "      <td>0</td>\n",
       "      <td>0</td>\n",
       "      <td>No</td>\n",
       "    </tr>\n",
       "    <tr>\n",
       "      <th>4</th>\n",
       "      <td>8.841186e+12</td>\n",
       "      <td>5642494</td>\n",
       "      <td>F</td>\n",
       "      <td>2016-04-29T16:07:23Z</td>\n",
       "      <td>2016-04-29T00:00:00Z</td>\n",
       "      <td>56</td>\n",
       "      <td>JARDIM DA PENHA</td>\n",
       "      <td>0</td>\n",
       "      <td>1</td>\n",
       "      <td>1</td>\n",
       "      <td>0</td>\n",
       "      <td>0</td>\n",
       "      <td>0</td>\n",
       "      <td>No</td>\n",
       "    </tr>\n",
       "  </tbody>\n",
       "</table>\n",
       "</div>"
      ],
      "text/plain": [
       "      PatientId  AppointmentID Gender          ScheduledDay  \\\n",
       "0  2.987250e+13        5642903      F  2016-04-29T18:38:08Z   \n",
       "1  5.589978e+14        5642503      M  2016-04-29T16:08:27Z   \n",
       "2  4.262962e+12        5642549      F  2016-04-29T16:19:04Z   \n",
       "3  8.679512e+11        5642828      F  2016-04-29T17:29:31Z   \n",
       "4  8.841186e+12        5642494      F  2016-04-29T16:07:23Z   \n",
       "\n",
       "         AppointmentDay  Age      Neighbourhood  Scholarship  Hipertension  \\\n",
       "0  2016-04-29T00:00:00Z   62    JARDIM DA PENHA            0             1   \n",
       "1  2016-04-29T00:00:00Z   56    JARDIM DA PENHA            0             0   \n",
       "2  2016-04-29T00:00:00Z   62      MATA DA PRAIA            0             0   \n",
       "3  2016-04-29T00:00:00Z    8  PONTAL DE CAMBURI            0             0   \n",
       "4  2016-04-29T00:00:00Z   56    JARDIM DA PENHA            0             1   \n",
       "\n",
       "   Diabetes  Alcoholism  Handcap  SMS_received No-show  \n",
       "0         0           0        0             0      No  \n",
       "1         0           0        0             0      No  \n",
       "2         0           0        0             0      No  \n",
       "3         0           0        0             0      No  \n",
       "4         1           0        0             0      No  "
      ]
     },
     "execution_count": 3,
     "metadata": {},
     "output_type": "execute_result"
    }
   ],
   "source": [
    "# loading the data into a dataframe\n",
    "original_df = pd.read_csv(os.path.join(dirname, filename))\n",
    "original_df.head()"
   ]
  },
  {
   "cell_type": "code",
   "execution_count": 4,
   "id": "1c9fef9d",
   "metadata": {
    "execution": {
     "iopub.execute_input": "2022-02-25T13:18:03.544123Z",
     "iopub.status.busy": "2022-02-25T13:18:03.543480Z",
     "iopub.status.idle": "2022-02-25T13:18:03.591609Z",
     "shell.execute_reply": "2022-02-25T13:18:03.592333Z",
     "shell.execute_reply.started": "2022-02-25T13:14:08.938384Z"
    },
    "papermill": {
     "duration": 0.069149,
     "end_time": "2022-02-25T13:18:03.592567",
     "exception": false,
     "start_time": "2022-02-25T13:18:03.523418",
     "status": "completed"
    },
    "tags": []
   },
   "outputs": [
    {
     "name": "stdout",
     "output_type": "stream",
     "text": [
      "<class 'pandas.core.frame.DataFrame'>\n",
      "RangeIndex: 110527 entries, 0 to 110526\n",
      "Data columns (total 14 columns):\n",
      " #   Column          Non-Null Count   Dtype  \n",
      "---  ------          --------------   -----  \n",
      " 0   PatientId       110527 non-null  float64\n",
      " 1   AppointmentID   110527 non-null  int64  \n",
      " 2   Gender          110527 non-null  object \n",
      " 3   ScheduledDay    110527 non-null  object \n",
      " 4   AppointmentDay  110527 non-null  object \n",
      " 5   Age             110527 non-null  int64  \n",
      " 6   Neighbourhood   110527 non-null  object \n",
      " 7   Scholarship     110527 non-null  int64  \n",
      " 8   Hipertension    110527 non-null  int64  \n",
      " 9   Diabetes        110527 non-null  int64  \n",
      " 10  Alcoholism      110527 non-null  int64  \n",
      " 11  Handcap         110527 non-null  int64  \n",
      " 12  SMS_received    110527 non-null  int64  \n",
      " 13  No-show         110527 non-null  object \n",
      "dtypes: float64(1), int64(8), object(5)\n",
      "memory usage: 11.8+ MB\n"
     ]
    }
   ],
   "source": [
    "original_df.info()"
   ]
  },
  {
   "cell_type": "markdown",
   "id": "34186dbc",
   "metadata": {
    "papermill": {
     "duration": 0.01745,
     "end_time": "2022-02-25T13:18:03.629146",
     "exception": false,
     "start_time": "2022-02-25T13:18:03.611696",
     "status": "completed"
    },
    "tags": []
   },
   "source": [
    "## what needs to be cleaned:\n",
    "\n",
    "- Change the Dtype of PatientId and AppointmentId columns to string.\n",
    "- Change the Dtype of Scholarship, Hipertension, Diabetes, Alcoholism, Handcap, and SMS_recieved columns to bool.\n",
    "- Extract the day date from ScheduledDay and AppointmentDay columns.\n",
    "- Change the Dtype of ScheduledDay and AppointmentDay columns to datetime.\n",
    "- Switch the No-show column to ShowedUp as it's much easier to interpret if no means didn't show up."
   ]
  },
  {
   "cell_type": "markdown",
   "id": "bf2b288a",
   "metadata": {
    "papermill": {
     "duration": 0.017234,
     "end_time": "2022-02-25T13:18:03.664501",
     "exception": false,
     "start_time": "2022-02-25T13:18:03.647267",
     "status": "completed"
    },
    "tags": []
   },
   "source": [
    "### Data Cleaning"
   ]
  },
  {
   "cell_type": "code",
   "execution_count": 5,
   "id": "64c939b8",
   "metadata": {
    "execution": {
     "iopub.execute_input": "2022-02-25T13:18:03.715798Z",
     "iopub.status.busy": "2022-02-25T13:18:03.714932Z",
     "iopub.status.idle": "2022-02-25T13:18:03.733755Z",
     "shell.execute_reply": "2022-02-25T13:18:03.734668Z",
     "shell.execute_reply.started": "2022-02-25T13:14:09.013646Z"
    },
    "papermill": {
     "duration": 0.046457,
     "end_time": "2022-02-25T13:18:03.734967",
     "exception": false,
     "start_time": "2022-02-25T13:18:03.688510",
     "status": "completed"
    },
    "tags": []
   },
   "outputs": [],
   "source": [
    "# creating a copy to work on.\n",
    "df_copy = original_df.copy()"
   ]
  },
  {
   "cell_type": "markdown",
   "id": "38ba8f8e",
   "metadata": {
    "papermill": {
     "duration": 0.022846,
     "end_time": "2022-02-25T13:18:03.784795",
     "exception": false,
     "start_time": "2022-02-25T13:18:03.761949",
     "status": "completed"
    },
    "tags": []
   },
   "source": [
    "- #### Changing columns to the appropriate data types."
   ]
  },
  {
   "cell_type": "code",
   "execution_count": 6,
   "id": "0790c62a",
   "metadata": {
    "execution": {
     "iopub.execute_input": "2022-02-25T13:18:03.829574Z",
     "iopub.status.busy": "2022-02-25T13:18:03.828937Z",
     "iopub.status.idle": "2022-02-25T13:18:03.933194Z",
     "shell.execute_reply": "2022-02-25T13:18:03.932586Z",
     "shell.execute_reply.started": "2022-02-25T13:14:09.029420Z"
    },
    "papermill": {
     "duration": 0.127253,
     "end_time": "2022-02-25T13:18:03.933348",
     "exception": false,
     "start_time": "2022-02-25T13:18:03.806095",
     "status": "completed"
    },
    "tags": []
   },
   "outputs": [
    {
     "data": {
      "text/plain": [
       "0          29872499824296.0\n",
       "1         558997776694438.0\n",
       "2           4262962299951.0\n",
       "3            867951213174.0\n",
       "4           8841186448183.0\n",
       "                ...        \n",
       "110522      2572134369293.0\n",
       "110523      3596266328735.0\n",
       "110524     15576631729893.0\n",
       "110525     92134931435557.0\n",
       "110526    377511518121127.0\n",
       "Name: PatientId, Length: 110527, dtype: object"
      ]
     },
     "execution_count": 6,
     "metadata": {},
     "output_type": "execute_result"
    }
   ],
   "source": [
    "df_copy['PatientId'] = df_copy['PatientId'].astype('str')\n",
    "df_copy['PatientId']"
   ]
  },
  {
   "cell_type": "code",
   "execution_count": 7,
   "id": "4e57e549",
   "metadata": {
    "execution": {
     "iopub.execute_input": "2022-02-25T13:18:03.974471Z",
     "iopub.status.busy": "2022-02-25T13:18:03.973000Z",
     "iopub.status.idle": "2022-02-25T13:18:04.338289Z",
     "shell.execute_reply": "2022-02-25T13:18:04.337571Z",
     "shell.execute_reply.started": "2022-02-25T13:14:09.161407Z"
    },
    "papermill": {
     "duration": 0.387004,
     "end_time": "2022-02-25T13:18:04.338447",
     "exception": false,
     "start_time": "2022-02-25T13:18:03.951443",
     "status": "completed"
    },
    "tags": []
   },
   "outputs": [
    {
     "data": {
      "text/plain": [
       "0          29872499824296\n",
       "1         558997776694438\n",
       "2           4262962299951\n",
       "3            867951213174\n",
       "4           8841186448183\n",
       "               ...       \n",
       "110522      2572134369293\n",
       "110523      3596266328735\n",
       "110524     15576631729893\n",
       "110525     92134931435557\n",
       "110526    377511518121127\n",
       "Name: PatientId, Length: 110527, dtype: object"
      ]
     },
     "execution_count": 7,
     "metadata": {},
     "output_type": "execute_result"
    }
   ],
   "source": [
    "# removing the decimal point from the patient id\n",
    "df_copy['PatientId'] = df_copy['PatientId'].str.split('.', expand=True)[0]\n",
    "df_copy['PatientId']"
   ]
  },
  {
   "cell_type": "code",
   "execution_count": 8,
   "id": "089b15a8",
   "metadata": {
    "execution": {
     "iopub.execute_input": "2022-02-25T13:18:04.443839Z",
     "iopub.status.busy": "2022-02-25T13:18:04.383861Z",
     "iopub.status.idle": "2022-02-25T13:18:04.455971Z",
     "shell.execute_reply": "2022-02-25T13:18:04.456487Z",
     "shell.execute_reply.started": "2022-02-25T13:14:09.591149Z"
    },
    "papermill": {
     "duration": 0.097094,
     "end_time": "2022-02-25T13:18:04.456663",
     "exception": false,
     "start_time": "2022-02-25T13:18:04.359569",
     "status": "completed"
    },
    "tags": []
   },
   "outputs": [
    {
     "data": {
      "text/plain": [
       "0         5642903\n",
       "1         5642503\n",
       "2         5642549\n",
       "3         5642828\n",
       "4         5642494\n",
       "           ...   \n",
       "110522    5651768\n",
       "110523    5650093\n",
       "110524    5630692\n",
       "110525    5630323\n",
       "110526    5629448\n",
       "Name: AppointmentID, Length: 110527, dtype: object"
      ]
     },
     "execution_count": 8,
     "metadata": {},
     "output_type": "execute_result"
    }
   ],
   "source": [
    "df_copy['AppointmentID'] = df_copy['AppointmentID'].astype('str')\n",
    "df_copy['AppointmentID']"
   ]
  },
  {
   "cell_type": "code",
   "execution_count": 9,
   "id": "73fb3696",
   "metadata": {
    "execution": {
     "iopub.execute_input": "2022-02-25T13:18:04.498104Z",
     "iopub.status.busy": "2022-02-25T13:18:04.497470Z",
     "iopub.status.idle": "2022-02-25T13:18:04.513520Z",
     "shell.execute_reply": "2022-02-25T13:18:04.514134Z",
     "shell.execute_reply.started": "2022-02-25T13:14:09.723558Z"
    },
    "papermill": {
     "duration": 0.039067,
     "end_time": "2022-02-25T13:18:04.514329",
     "exception": false,
     "start_time": "2022-02-25T13:18:04.475262",
     "status": "completed"
    },
    "tags": []
   },
   "outputs": [],
   "source": [
    "df_copy['Scholarship'] = df_copy['Scholarship'].astype('bool')\n",
    "df_copy['Hipertension'] = df_copy['Hipertension'].astype('bool')\n",
    "df_copy['Diabetes'] = df_copy['Diabetes'].astype('bool')\n",
    "df_copy['Alcoholism'] = df_copy['Alcoholism'].astype('bool')\n",
    "df_copy['Handcap'] = df_copy['Handcap'].astype('bool')\n",
    "df_copy['SMS_received'] = df_copy['SMS_received'].astype('bool')"
   ]
  },
  {
   "cell_type": "code",
   "execution_count": 10,
   "id": "1d2c1ab8",
   "metadata": {
    "execution": {
     "iopub.execute_input": "2022-02-25T13:18:04.555503Z",
     "iopub.status.busy": "2022-02-25T13:18:04.554822Z",
     "iopub.status.idle": "2022-02-25T13:18:05.059735Z",
     "shell.execute_reply": "2022-02-25T13:18:05.059199Z",
     "shell.execute_reply.started": "2022-02-25T13:14:09.743502Z"
    },
    "papermill": {
     "duration": 0.52618,
     "end_time": "2022-02-25T13:18:05.059883",
     "exception": false,
     "start_time": "2022-02-25T13:18:04.533703",
     "status": "completed"
    },
    "tags": []
   },
   "outputs": [],
   "source": [
    "# extracting the day date from ScheduledDay and AppointmentDay columns.\n",
    "df_copy['AppointmentDay'] = df_copy['AppointmentDay'].str.split('T', expand=True)[0]\n",
    "df_copy['ScheduledDay'] = df_copy['ScheduledDay'].str.split('T', expand=True)[0]"
   ]
  },
  {
   "cell_type": "code",
   "execution_count": 11,
   "id": "ddd4b3bf",
   "metadata": {
    "execution": {
     "iopub.execute_input": "2022-02-25T13:18:05.111248Z",
     "iopub.status.busy": "2022-02-25T13:18:05.110213Z",
     "iopub.status.idle": "2022-02-25T13:18:05.171467Z",
     "shell.execute_reply": "2022-02-25T13:18:05.170799Z",
     "shell.execute_reply.started": "2022-02-25T13:14:10.389046Z"
    },
    "papermill": {
     "duration": 0.092564,
     "end_time": "2022-02-25T13:18:05.171615",
     "exception": false,
     "start_time": "2022-02-25T13:18:05.079051",
     "status": "completed"
    },
    "tags": []
   },
   "outputs": [],
   "source": [
    "# changing to datetime data type.\n",
    "df_copy['AppointmentDay'] = pd.to_datetime(df_copy['AppointmentDay'])\n",
    "df_copy['ScheduledDay'] = pd.to_datetime(df_copy['ScheduledDay'])"
   ]
  },
  {
   "cell_type": "markdown",
   "id": "9068f8e2",
   "metadata": {
    "papermill": {
     "duration": 0.019284,
     "end_time": "2022-02-25T13:18:05.210151",
     "exception": false,
     "start_time": "2022-02-25T13:18:05.190867",
     "status": "completed"
    },
    "tags": []
   },
   "source": [
    "- #### Switching the No-show column to ShowedUp"
   ]
  },
  {
   "cell_type": "code",
   "execution_count": 12,
   "id": "84b5c1dd",
   "metadata": {
    "execution": {
     "iopub.execute_input": "2022-02-25T13:18:05.254813Z",
     "iopub.status.busy": "2022-02-25T13:18:05.254060Z",
     "iopub.status.idle": "2022-02-25T13:18:05.256638Z",
     "shell.execute_reply": "2022-02-25T13:18:05.256161Z",
     "shell.execute_reply.started": "2022-02-25T13:14:10.471550Z"
    },
    "papermill": {
     "duration": 0.026587,
     "end_time": "2022-02-25T13:18:05.256786",
     "exception": false,
     "start_time": "2022-02-25T13:18:05.230199",
     "status": "completed"
    },
    "tags": []
   },
   "outputs": [],
   "source": [
    "df_copy.rename(columns={'No-show': 'ShowedUp'}, inplace=True)"
   ]
  },
  {
   "cell_type": "code",
   "execution_count": 13,
   "id": "2c6ec142",
   "metadata": {
    "execution": {
     "iopub.execute_input": "2022-02-25T13:18:05.298045Z",
     "iopub.status.busy": "2022-02-25T13:18:05.297439Z",
     "iopub.status.idle": "2022-02-25T13:18:05.302923Z",
     "shell.execute_reply": "2022-02-25T13:18:05.302422Z",
     "shell.execute_reply.started": "2022-02-25T13:14:10.480213Z"
    },
    "papermill": {
     "duration": 0.027301,
     "end_time": "2022-02-25T13:18:05.303065",
     "exception": false,
     "start_time": "2022-02-25T13:18:05.275764",
     "status": "completed"
    },
    "tags": []
   },
   "outputs": [],
   "source": [
    "# function to Switch the column values.\n",
    "def convert(x):\n",
    "    if x == 'Yes':\n",
    "        return 'No'\n",
    "    else:\n",
    "        return 'Yes'"
   ]
  },
  {
   "cell_type": "code",
   "execution_count": 14,
   "id": "dde6a179",
   "metadata": {
    "execution": {
     "iopub.execute_input": "2022-02-25T13:18:05.356848Z",
     "iopub.status.busy": "2022-02-25T13:18:05.356251Z",
     "iopub.status.idle": "2022-02-25T13:18:05.362115Z",
     "shell.execute_reply": "2022-02-25T13:18:05.362597Z",
     "shell.execute_reply.started": "2022-02-25T13:14:10.490534Z"
    },
    "papermill": {
     "duration": 0.040902,
     "end_time": "2022-02-25T13:18:05.362762",
     "exception": false,
     "start_time": "2022-02-25T13:18:05.321860",
     "status": "completed"
    },
    "tags": []
   },
   "outputs": [],
   "source": [
    "df_copy['ShowedUp'] = df_copy['ShowedUp'].apply(convert)"
   ]
  },
  {
   "cell_type": "code",
   "execution_count": 15,
   "id": "b6f2698d",
   "metadata": {
    "execution": {
     "iopub.execute_input": "2022-02-25T13:18:05.416069Z",
     "iopub.status.busy": "2022-02-25T13:18:05.415453Z",
     "iopub.status.idle": "2022-02-25T13:18:05.419457Z",
     "shell.execute_reply": "2022-02-25T13:18:05.418943Z",
     "shell.execute_reply.started": "2022-02-25T13:14:10.530987Z"
    },
    "papermill": {
     "duration": 0.038172,
     "end_time": "2022-02-25T13:18:05.419600",
     "exception": false,
     "start_time": "2022-02-25T13:18:05.381428",
     "status": "completed"
    },
    "tags": []
   },
   "outputs": [
    {
     "data": {
      "text/html": [
       "<div>\n",
       "<style scoped>\n",
       "    .dataframe tbody tr th:only-of-type {\n",
       "        vertical-align: middle;\n",
       "    }\n",
       "\n",
       "    .dataframe tbody tr th {\n",
       "        vertical-align: top;\n",
       "    }\n",
       "\n",
       "    .dataframe thead th {\n",
       "        text-align: right;\n",
       "    }\n",
       "</style>\n",
       "<table border=\"1\" class=\"dataframe\">\n",
       "  <thead>\n",
       "    <tr style=\"text-align: right;\">\n",
       "      <th></th>\n",
       "      <th>PatientId</th>\n",
       "      <th>AppointmentID</th>\n",
       "      <th>Gender</th>\n",
       "      <th>ScheduledDay</th>\n",
       "      <th>AppointmentDay</th>\n",
       "      <th>Age</th>\n",
       "      <th>Neighbourhood</th>\n",
       "      <th>Scholarship</th>\n",
       "      <th>Hipertension</th>\n",
       "      <th>Diabetes</th>\n",
       "      <th>Alcoholism</th>\n",
       "      <th>Handcap</th>\n",
       "      <th>SMS_received</th>\n",
       "      <th>ShowedUp</th>\n",
       "    </tr>\n",
       "  </thead>\n",
       "  <tbody>\n",
       "    <tr>\n",
       "      <th>0</th>\n",
       "      <td>29872499824296</td>\n",
       "      <td>5642903</td>\n",
       "      <td>F</td>\n",
       "      <td>2016-04-29</td>\n",
       "      <td>2016-04-29</td>\n",
       "      <td>62</td>\n",
       "      <td>JARDIM DA PENHA</td>\n",
       "      <td>False</td>\n",
       "      <td>True</td>\n",
       "      <td>False</td>\n",
       "      <td>False</td>\n",
       "      <td>False</td>\n",
       "      <td>False</td>\n",
       "      <td>Yes</td>\n",
       "    </tr>\n",
       "    <tr>\n",
       "      <th>1</th>\n",
       "      <td>558997776694438</td>\n",
       "      <td>5642503</td>\n",
       "      <td>M</td>\n",
       "      <td>2016-04-29</td>\n",
       "      <td>2016-04-29</td>\n",
       "      <td>56</td>\n",
       "      <td>JARDIM DA PENHA</td>\n",
       "      <td>False</td>\n",
       "      <td>False</td>\n",
       "      <td>False</td>\n",
       "      <td>False</td>\n",
       "      <td>False</td>\n",
       "      <td>False</td>\n",
       "      <td>Yes</td>\n",
       "    </tr>\n",
       "    <tr>\n",
       "      <th>2</th>\n",
       "      <td>4262962299951</td>\n",
       "      <td>5642549</td>\n",
       "      <td>F</td>\n",
       "      <td>2016-04-29</td>\n",
       "      <td>2016-04-29</td>\n",
       "      <td>62</td>\n",
       "      <td>MATA DA PRAIA</td>\n",
       "      <td>False</td>\n",
       "      <td>False</td>\n",
       "      <td>False</td>\n",
       "      <td>False</td>\n",
       "      <td>False</td>\n",
       "      <td>False</td>\n",
       "      <td>Yes</td>\n",
       "    </tr>\n",
       "    <tr>\n",
       "      <th>3</th>\n",
       "      <td>867951213174</td>\n",
       "      <td>5642828</td>\n",
       "      <td>F</td>\n",
       "      <td>2016-04-29</td>\n",
       "      <td>2016-04-29</td>\n",
       "      <td>8</td>\n",
       "      <td>PONTAL DE CAMBURI</td>\n",
       "      <td>False</td>\n",
       "      <td>False</td>\n",
       "      <td>False</td>\n",
       "      <td>False</td>\n",
       "      <td>False</td>\n",
       "      <td>False</td>\n",
       "      <td>Yes</td>\n",
       "    </tr>\n",
       "    <tr>\n",
       "      <th>4</th>\n",
       "      <td>8841186448183</td>\n",
       "      <td>5642494</td>\n",
       "      <td>F</td>\n",
       "      <td>2016-04-29</td>\n",
       "      <td>2016-04-29</td>\n",
       "      <td>56</td>\n",
       "      <td>JARDIM DA PENHA</td>\n",
       "      <td>False</td>\n",
       "      <td>True</td>\n",
       "      <td>True</td>\n",
       "      <td>False</td>\n",
       "      <td>False</td>\n",
       "      <td>False</td>\n",
       "      <td>Yes</td>\n",
       "    </tr>\n",
       "  </tbody>\n",
       "</table>\n",
       "</div>"
      ],
      "text/plain": [
       "         PatientId AppointmentID Gender ScheduledDay AppointmentDay  Age  \\\n",
       "0   29872499824296       5642903      F   2016-04-29     2016-04-29   62   \n",
       "1  558997776694438       5642503      M   2016-04-29     2016-04-29   56   \n",
       "2    4262962299951       5642549      F   2016-04-29     2016-04-29   62   \n",
       "3     867951213174       5642828      F   2016-04-29     2016-04-29    8   \n",
       "4    8841186448183       5642494      F   2016-04-29     2016-04-29   56   \n",
       "\n",
       "       Neighbourhood  Scholarship  Hipertension  Diabetes  Alcoholism  \\\n",
       "0    JARDIM DA PENHA        False          True     False       False   \n",
       "1    JARDIM DA PENHA        False         False     False       False   \n",
       "2      MATA DA PRAIA        False         False     False       False   \n",
       "3  PONTAL DE CAMBURI        False         False     False       False   \n",
       "4    JARDIM DA PENHA        False          True      True       False   \n",
       "\n",
       "   Handcap  SMS_received ShowedUp  \n",
       "0    False         False      Yes  \n",
       "1    False         False      Yes  \n",
       "2    False         False      Yes  \n",
       "3    False         False      Yes  \n",
       "4    False         False      Yes  "
      ]
     },
     "execution_count": 15,
     "metadata": {},
     "output_type": "execute_result"
    }
   ],
   "source": [
    "df_copy.head()"
   ]
  },
  {
   "cell_type": "code",
   "execution_count": 16,
   "id": "1e4331db",
   "metadata": {
    "execution": {
     "iopub.execute_input": "2022-02-25T13:18:05.487081Z",
     "iopub.status.busy": "2022-02-25T13:18:05.476501Z",
     "iopub.status.idle": "2022-02-25T13:18:05.500742Z",
     "shell.execute_reply": "2022-02-25T13:18:05.501438Z",
     "shell.execute_reply.started": "2022-02-25T13:14:10.553016Z"
    },
    "papermill": {
     "duration": 0.062226,
     "end_time": "2022-02-25T13:18:05.501656",
     "exception": false,
     "start_time": "2022-02-25T13:18:05.439430",
     "status": "completed"
    },
    "tags": []
   },
   "outputs": [
    {
     "name": "stdout",
     "output_type": "stream",
     "text": [
      "<class 'pandas.core.frame.DataFrame'>\n",
      "RangeIndex: 110527 entries, 0 to 110526\n",
      "Data columns (total 14 columns):\n",
      " #   Column          Non-Null Count   Dtype         \n",
      "---  ------          --------------   -----         \n",
      " 0   PatientId       110527 non-null  object        \n",
      " 1   AppointmentID   110527 non-null  object        \n",
      " 2   Gender          110527 non-null  object        \n",
      " 3   ScheduledDay    110527 non-null  datetime64[ns]\n",
      " 4   AppointmentDay  110527 non-null  datetime64[ns]\n",
      " 5   Age             110527 non-null  int64         \n",
      " 6   Neighbourhood   110527 non-null  object        \n",
      " 7   Scholarship     110527 non-null  bool          \n",
      " 8   Hipertension    110527 non-null  bool          \n",
      " 9   Diabetes        110527 non-null  bool          \n",
      " 10  Alcoholism      110527 non-null  bool          \n",
      " 11  Handcap         110527 non-null  bool          \n",
      " 12  SMS_received    110527 non-null  bool          \n",
      " 13  ShowedUp        110527 non-null  object        \n",
      "dtypes: bool(6), datetime64[ns](2), int64(1), object(5)\n",
      "memory usage: 7.4+ MB\n"
     ]
    }
   ],
   "source": [
    "df_copy.info()"
   ]
  },
  {
   "cell_type": "markdown",
   "id": "8d922f67",
   "metadata": {
    "papermill": {
     "duration": 0.021104,
     "end_time": "2022-02-25T13:18:05.543052",
     "exception": false,
     "start_time": "2022-02-25T13:18:05.521948",
     "status": "completed"
    },
    "tags": []
   },
   "source": [
    "<a id='eda'></a>\n",
    "## Exploratory Data Analysis"
   ]
  },
  {
   "cell_type": "code",
   "execution_count": 17,
   "id": "1e1eb46c",
   "metadata": {
    "execution": {
     "iopub.execute_input": "2022-02-25T13:18:05.585601Z",
     "iopub.status.busy": "2022-02-25T13:18:05.584688Z",
     "iopub.status.idle": "2022-02-25T13:18:05.607531Z",
     "shell.execute_reply": "2022-02-25T13:18:05.608006Z",
     "shell.execute_reply.started": "2022-02-25T13:14:10.634557Z"
    },
    "papermill": {
     "duration": 0.045582,
     "end_time": "2022-02-25T13:18:05.608164",
     "exception": false,
     "start_time": "2022-02-25T13:18:05.562582",
     "status": "completed"
    },
    "tags": []
   },
   "outputs": [
    {
     "data": {
      "text/plain": [
       "48228"
      ]
     },
     "execution_count": 17,
     "metadata": {},
     "output_type": "execute_result"
    }
   ],
   "source": [
    "# checking if a single patient made multiple appointments.\n",
    "df_copy['PatientId'].duplicated().sum()"
   ]
  }
 ],
 "metadata": {
  "kernelspec": {
   "display_name": "Python 3",
   "language": "python",
   "name": "python3"
  },
  "language_info": {
   "codemirror_mode": {
    "name": "ipython",
    "version": 3
   },
   "file_extension": ".py",
   "mimetype": "text/x-python",
   "name": "python",
   "nbconvert_exporter": "python",
   "pygments_lexer": "ipython3",
   "version": "3.7.12"
  },
  "papermill": {
   "default_parameters": {},
   "duration": 12.327908,
   "end_time": "2022-02-25T13:18:06.237253",
   "environment_variables": {},
   "exception": null,
   "input_path": "__notebook__.ipynb",
   "output_path": "__notebook__.ipynb",
   "parameters": {},
   "start_time": "2022-02-25T13:17:53.909345",
   "version": "2.3.3"
  }
 },
 "nbformat": 4,
 "nbformat_minor": 5
}
